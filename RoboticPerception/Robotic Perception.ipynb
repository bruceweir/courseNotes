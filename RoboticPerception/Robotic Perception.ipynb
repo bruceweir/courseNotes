{
 "cells": [
  {
   "cell_type": "markdown",
   "metadata": {},
   "source": [
    "\\begin{equation*}\n",
    "\\mathbf{V}_1 \\times \\mathbf{V}_2 =  \\begin{vmatrix}\n",
    "\\mathbf{i} & \\mathbf{j} & \\mathbf{k} \\\\\n",
    "\\frac{\\partial X}{\\partial u} &  \\frac{\\partial Y}{\\partial u} & 0 \\\\\n",
    "\\frac{\\partial X}{\\partial v} &  \\frac{\\partial Y}{\\partial v} & 0\n",
    "\\end{vmatrix}\n",
    "\\end{equation*}"
   ]
  },
  {
   "cell_type": "markdown",
   "metadata": {},
   "source": [
    "## From: https://www.coursera.org/learn/robotics-perception/home/welcome"
   ]
  },
  {
   "cell_type": "markdown",
   "metadata": {},
   "source": [
    "# Camera Modelling"
   ]
  },
  {
   "cell_type": "markdown",
   "metadata": {},
   "source": [
    "### Thin lens\n",
    "\n",
    "![alt text](thinLens.png \"Title\")\n",
    "\n",
    "\\begin{equation*}\n",
    "\\frac{1}{f} = \\frac{1}{a} + \\frac{1}{b}\n",
    "\\end{equation*}\n",
    "\n",
    "Where:\n",
    "\n",
    "f = focal length,<br>\n",
    "a = Distance from lens to the object<br>\n",
    "b = Distance from lens to the image plane\n",
    "<br><br>\n",
    "\\begin{equation*}\n",
    "\\frac{Y}{a} = \\frac{y}{b}\n",
    "\\end{equation*}\n",
    "\n",
    "Where:\n",
    "\n",
    "Y is the size of an object,<br>\n",
    "y is the size of that object on the image plane."
   ]
  },
  {
   "cell_type": "markdown",
   "metadata": {},
   "source": [
    "### Camera/world geometry\n",
    "\n",
    "\n",
    "![alt text](worldCameraCoords.png \"Title\")\n",
    "\n",
    "\n",
    "### Perspective projection\n",
    "\n",
    "\n",
    "![alt text](vanishingProjection.png \"Title\")\n",
    "\n",
    "![alt text](vanishingLines.png \"Title\")\n",
    "\n",
    "![alt text](projectivePlane.png \"Title\")\n",
    "\n",
    "\n",
    "### Homogeneous Coordinates\n",
    "\n",
    "Image plane [x, y, 1] is located 1 unit away from the origin (at [0, 0, 0])\n",
    "\n",
    "![alt text](pointCoordinates.png \"Title\")\n",
    "\n",
    "![alt text](projectiveLines.png \"Title\")\n",
    "\n",
    "Dot product = 0\n",
    "\n",
    "$a$, $b$ & $c$ are the surface normal of the plane created between 0, 0, 0 and any two points on the line.\n",
    "\n",
    "![alt text](lineRepresentation.png \"Title\")\n",
    "\n",
    "![alt text](lineExample1.png \"Title\")\n",
    "\n",
    "$\\theta$ is the angle from the origin of the normal to the line (0, 0) to the line.<br>\n",
    "$\\rho$ is the length of the normal from the origin to the line<br>\n",
    "\n",
    "\n",
    "$$a = cos(0.3 * \\pi)$$\n",
    "$$b = sin(0.3 * \\pi)$$\n",
    "$$c = -\\rho$$"
   ]
  },
  {
   "cell_type": "code",
   "execution_count": 1,
   "metadata": {
    "collapsed": false
   },
   "outputs": [
    {
     "name": "stdout",
     "output_type": "stream",
     "text": [
      "a =  0.587785252292 , b =  0.809016994375 , c =  -136.6\n"
     ]
    }
   ],
   "source": [
    "import math\n",
    "a = math.cos(0.3 * math.pi)\n",
    "b = math.sin(0.3 * math.pi)\n",
    "c = -136.6\n",
    "\n",
    "print \"a = \", a, \", b = \", b, \", c = \", c;"
   ]
  },
  {
   "cell_type": "markdown",
   "metadata": {},
   "source": [
    "\n",
    "![alt text](lineExample2.png \"Title\")"
   ]
  },
  {
   "cell_type": "code",
   "execution_count": 2,
   "metadata": {
    "collapsed": false
   },
   "outputs": [
    {
     "name": "stdout",
     "output_type": "stream",
     "text": [
      "a =  0.248689887165 , b =  0.968583161129 , c =  -267.0\n"
     ]
    }
   ],
   "source": [
    "a = math.cos(0.42*math.pi)\n",
    "b = math.sin(0.42*math.pi)\n",
    "c = -267.0\n",
    "\n",
    "print \"a = \", a, \", b = \", b, \", c = \", c;"
   ]
  },
  {
   "cell_type": "markdown",
   "metadata": {
    "collapsed": true
   },
   "source": [
    "![alt text](linePassing.png \"Title\") \n",
    "\n",
    "Consider two rays: one from the origin to $P_1$, and the other from the origin to $P_2$. The first forms the 3D vector $x$, the second form the 3D vector $x'$. In this case, the vector normal to the plane defined by these two vectors is a line $l$ given by the cross product: $$l = x \\times x'$$"
   ]
  },
  {
   "cell_type": "markdown",
   "metadata": {},
   "source": [
    "![alt text](crossExample.png \"Title\") \n",
    "\n",
    "Point P1 is at $[42.0, 142.0, 1]$ (Image plane defined to be at $z=1$).\n",
    "\n",
    "Point P2 is at $[218, 13.0, 1]$\n",
    "\n",
    "Plane normal (normalised in XY only) of the line defined between these two points and the origin is $[0.591, 0.807, -139.36]$"
   ]
  },
  {
   "cell_type": "code",
   "execution_count": 3,
   "metadata": {
    "collapsed": false
   },
   "outputs": [
    {
     "name": "stdout",
     "output_type": "stream",
     "text": [
      "plane normal for points [42.0, 142.0, 1] and [218.0, 13.0, 1] is [   0.59116497    0.80655066 -139.35912314]\n"
     ]
    }
   ],
   "source": [
    "import numpy as np\n",
    "\n",
    "def normaliseXYOnly(vec):\n",
    "    \n",
    "    length = 0\n",
    "    for x in range(0, len(vec)-1):\n",
    "        length += vec[x]**2\n",
    "    \n",
    "    length = math.sqrt(length)\n",
    "\n",
    "    for x in range(0, len(vec)):\n",
    "        vec[x] = vec[x]/length\n",
    "    \n",
    "    return vec\n",
    "\n",
    "def calculatePlaneNormalFrom2DImagePoints(point1, point2):\n",
    "    \n",
    "    #convert to homogeneous coords here by adding z=1\n",
    "    point1.append(1)\n",
    "    point2.append(1)\n",
    "    \n",
    "    planeNormal = np.cross(point1, point2)\n",
    "    planeNormal = normaliseXYOnly(planeNormal)\n",
    "    \n",
    "    print(\"plane normal for points {} and {} is {}\".format(point1, point2, planeNormal))\n",
    "    return planeNormal\n",
    "\n",
    "\n",
    "P1 = [42.0, 142.0]\n",
    "P2 = [218.0, 13.0]\n",
    "\n",
    "\n",
    "l = calculatePlaneNormalFrom2DImagePoints(P1, P2)\n"
   ]
  },
  {
   "cell_type": "markdown",
   "metadata": {},
   "source": [
    "### Intersection of two lines\n",
    "\n",
    "![alt text](intersectionOfTwoLines.png \"Title\") \n",
    "\n",
    "If two lines on the image intersect at P, then a line from the origin to P will be perpendicular to a plane defined by the surface normal of the first line and the surface normal of the second line.\n",
    "In other words, given two lines on the image, you can calculate their point of intersection by taking the cross product of the plane normals created by the two lines.\n",
    "\n",
    "![alt text](lineIntersectionExample.png \"Title\") "
   ]
  },
  {
   "cell_type": "markdown",
   "metadata": {
    "collapsed": true
   },
   "source": [
    "Given an image with two lines where the first line contains the points [0, 0] & [100, 0], and the second line contains the points [50, 100] & [50, 50], then we would expect an intersection at [50, 0] "
   ]
  },
  {
   "cell_type": "code",
   "execution_count": 4,
   "metadata": {
    "collapsed": false
   },
   "outputs": [],
   "source": [
    "def calculateIntersectionOfTwoLinesFrom2DPoints(Line1Point1, Line1Point2, Line2Point1, Line2Point2):\n",
    "    \n",
    "    line1PlaneNormal = calculatePlaneNormalFrom2DImagePoints(Line1Point1, Line1Point2)\n",
    "    line2PlaneNormal = calculatePlaneNormalFrom2DImagePoints(Line2Point1, Line2Point2)\n",
    "    \n",
    "    intersection = np.cross(line2PlaneNormal, line1PlaneNormal)\n",
    "    \n",
    "    return intersection\n",
    "    "
   ]
  },
  {
   "cell_type": "code",
   "execution_count": 5,
   "metadata": {
    "collapsed": true
   },
   "outputs": [],
   "source": [
    "def normalise3DVectorToZEquals1(vec):\n",
    "    \n",
    "    normalised = [x/vec[2] for x in vec]\n",
    "    \n",
    "    return normalised"
   ]
  },
  {
   "cell_type": "code",
   "execution_count": 15,
   "metadata": {
    "collapsed": true
   },
   "outputs": [],
   "source": [
    "def calculateIntersectionOfTwoLinesAtImagePlane(L1P1, L1P2, L2P1, L2P2):\n",
    "    \n",
    "    intersection = calculateIntersectionOfTwoLinesFrom2DPoints(L1P1, L1P2, L2P1, L2P2)\n",
    "\n",
    "    if(intersection[2] == 0.0):\n",
    "        return intersection\n",
    "    \n",
    "    intersection = normalise3DVectorToZEquals1(intersection)\n",
    "\n",
    "    return intersection"
   ]
  },
  {
   "cell_type": "code",
   "execution_count": 16,
   "metadata": {
    "collapsed": false
   },
   "outputs": [
    {
     "name": "stdout",
     "output_type": "stream",
     "text": [
      "plane normal for points [0.0, 0.0, 1] and [100.0, 0.0, 1] is [ 0.  1.  0.]\n",
      "plane normal for points [50.0, 100.0, 1] and [50.0, 50.0, 1] is [  1.   0. -50.]\n",
      "Intersection is at: [50.0, 0.0, 1.0]\n"
     ]
    }
   ],
   "source": [
    "L1P1 = [0.0, 0.0]\n",
    "L1P2 = [100.0, 0.0]\n",
    "L2P1 = [50.0, 100.0]\n",
    "L2P2 = [50.0, 50.0]\n",
    "\n",
    "intersection = calculateIntersectionOfTwoLinesAtImagePlane(L1P1, L1P2, L2P1, L2P2)\n",
    "\n",
    "print(\"Intersection is at: {}\".format(intersection))"
   ]
  },
  {
   "cell_type": "markdown",
   "metadata": {},
   "source": [
    "Given an image with two lines where the first line contains the points [0, 0] & [100, 100], and the second line contains the points [0, 100] & [100, 0], then we would expect an intersection at [50, 50] on the image plane."
   ]
  },
  {
   "cell_type": "code",
   "execution_count": 17,
   "metadata": {
    "collapsed": false,
    "scrolled": false
   },
   "outputs": [
    {
     "name": "stdout",
     "output_type": "stream",
     "text": [
      "plane normal for points [0.0, 0.0, 1] and [100.0, 100.0, 1] is [-0.70710678  0.70710678  0.        ]\n",
      "plane normal for points [0.0, 100.0, 1] and [100.0, 0.0, 1] is [  0.70710678   0.70710678 -70.71067812]\n",
      "Intersection is at: [50.000000000000014, 50.000000000000014, 1.0]\n"
     ]
    }
   ],
   "source": [
    "L1P1 = [0.0, 0.0]\n",
    "L1P2 = [100.0, 100.0]\n",
    "L2P1 = [0.0, 100.0]\n",
    "L2P2 = [100.0, 0.0]\n",
    "\n",
    "intersection = calculateIntersectionOfTwoLinesAtImagePlane(L1P1, L1P2, L2P1, L2P2)\n",
    "\n",
    "print(\"Intersection is at: {}\".format(intersection))"
   ]
  },
  {
   "cell_type": "markdown",
   "metadata": {},
   "source": [
    "![alt text](pointLineDuality.png \"Title\") \n",
    "![alt text](pointAtInfinity.png \"Title\") "
   ]
  },
  {
   "cell_type": "code",
   "execution_count": 22,
   "metadata": {
    "collapsed": false
   },
   "outputs": [
    {
     "name": "stdout",
     "output_type": "stream",
     "text": [
      "plane normal for points [0.0, 0.0, 1] and [1.0, 1.0, 1] is [-0.70710678  0.70710678  0.        ]\n",
      "plane normal for points [0.0, 0.0, 1] and [-1.0, 1.0, 1] is [-0.70710678 -0.70710678  0.        ]\n",
      "intersection is at infinity if z=0: [-0.0, -0.0, 1.0]\n",
      "lines are parallel in the -y direction\n"
     ]
    }
   ],
   "source": [
    "#parallel lines\n",
    "L1P1 = [10.0, 0.0]\n",
    "L1P2 = [10.0, 10.0]\n",
    "L2P1 = [20.0, 0.0]\n",
    "L2P2 = [20.0, 10.0]\n",
    "\n",
    "intersection = calculateIntersectionOfTwoLinesAtImagePlane(L1P1, L1P2, L2P1, L2P2)\n",
    "\n",
    "print('intersection is at infinity if z=0: {}'.format(intersection))\n",
    "print('lines are parallel in the -y direction')"
   ]
  },
  {
   "cell_type": "markdown",
   "metadata": {},
   "source": [
    "![alt text](pointAtInfinity2.png \"Title\") \n",
    "![alt text](pointAtInfinity3.png \"Title\") \n",
    "\n",
    "Line pointing to infinity has a plane parallel to the image plane\n",
    "![alt text](lineAtInfinity.png \"Title\") \n",
    "![alt text](idealPointsAndLines.png \"Title\") "
   ]
  },
  {
   "cell_type": "markdown",
   "metadata": {
    "collapsed": true
   },
   "source": [
    "## Transformations & Rotations"
   ]
  },
  {
   "cell_type": "markdown",
   "metadata": {},
   "source": [
    "![alt text](transformationCameraWorldCoords.png \"Title\") \n",
    "![alt text](worldOrCameraCoords.png \"Title\") \n",
    "\n",
    "The point with respect to the camera is the camera rotation * the point with respect to the world + the translation of the camera relative to the world\n",
    "\n",
    "![alt text](worldCameraCoords2.png \"Title\") \n",
    "![alt text](geometricMeaningOfTranslation.png \"Title\") \n",
    "\n",
    "\n",
    "The first column of the camera rotation matrix is the x-axis of the world with respect to the camera. (r1)\n",
    "The second column of the camera rotation matrix is the y-axis of the world with respect to the camera. (r2)\n",
    "The third column of the camera rotation matrix is the z-axis of the world with respect to the camera. (r3)\n",
    "\n",
    "![alt text](geometricMeaningOfRotation.png \"Title\") \n",
    "\n",
    "\n",
    "In the following example, the world X axis (r1) is opposite to the camera X axis (Xc), so the first column is\n",
    "$$\n",
    "        \\begin{pmatrix}\n",
    "        -1 \\\\\n",
    "        0 \\\\\n",
    "        0 \\\\\n",
    "        \\end{pmatrix}\n",
    "$$\n",
    "\n",
    "The world Y axis (r2) is opposite the camera Z axis (Zc), so the second column is \n",
    "\n",
    "$$\n",
    "        \\begin{pmatrix}\n",
    "        0 \\\\\n",
    "        0 \\\\\n",
    "        -1 \\\\\n",
    "        \\end{pmatrix}\n",
    "$$\n",
    "\n",
    "and the world Z axis (r3) is opposite the camera Y axis (Yc), so the third column is \n",
    "\n",
    "\n",
    "$$\n",
    "        \\begin{pmatrix}\n",
    "        0 \\\\\n",
    "        -1 \\\\\n",
    "        0 \\\\\n",
    "        \\end{pmatrix}\n",
    "$$\n",
    "\n",
    "Resulting in the rotation matrix for this example being\n",
    "\n",
    "\n",
    "$$\n",
    "        \\begin{pmatrix}\n",
    "        -1 & 0 & 0\\\\\n",
    "        0 & 0 & -1\\\\\n",
    "        0 & -1 & 0\\\\\n",
    "        \\end{pmatrix}\n",
    "$$\n",
    "\n",
    "\n",
    "![alt text](rotationMatrixExample.png \"Title\") \n",
    "\n",
    "\n",
    "Translation is just the vector from the origin of the CAMERA to the origin of the WORLD.\n",
    "\n",
    "![alt text](translationMatrixExample.png \"Title\") \n",
    "\n",
    "\n",
    "Make sure that the 3x3 matrix is a rotation matrix - all columns orthogonal $\\begin{equation*}\n",
    "\\ R^TR=I\n",
    "\\end{equation*}$ and $\\begin{equation*} det(R)= 1 \\end{equation*}$\n",
    "![alt text](confirmRotationMatrix.png \"Title\") \n",
    "\n"
   ]
  },
  {
   "cell_type": "code",
   "execution_count": 39,
   "metadata": {
    "collapsed": false
   },
   "outputs": [
    {
     "name": "stdout",
     "output_type": "stream",
     "text": [
      "[[-1.  0.  0.]\n",
      " [ 0.  0. -1.]\n",
      " [ 0. -1.  0.]]\n",
      "This should be == 1: 1.0\n",
      "This should be the identity matrix:\n",
      " [[ 1.  0.  0.]\n",
      " [ 0.  1.  0.]\n",
      " [ 0.  0.  1.]]\n"
     ]
    }
   ],
   "source": [
    "r = np.array([[-1.0, 0.0, 0.0], [0.0, 0.0, -1.0], [0.0, -1.0, 0.0]])\n",
    "\n",
    "print(r)\n",
    "\n",
    "print(\"This should be == 1: {}\".format(np.linalg.det(r)))\n",
    "\n",
    "print(\"This should be the identity matrix:\\n {}\".format(np.matmul(r.T, r)))"
   ]
  },
  {
   "cell_type": "code",
   "execution_count": null,
   "metadata": {
    "collapsed": true
   },
   "outputs": [],
   "source": []
  }
 ],
 "metadata": {
  "anaconda-cloud": {},
  "kernelspec": {
   "display_name": "Python [conda root]",
   "language": "python",
   "name": "conda-root-py"
  },
  "language_info": {
   "codemirror_mode": {
    "name": "ipython",
    "version": 2
   },
   "file_extension": ".py",
   "mimetype": "text/x-python",
   "name": "python",
   "nbconvert_exporter": "python",
   "pygments_lexer": "ipython2",
   "version": "2.7.12"
  }
 },
 "nbformat": 4,
 "nbformat_minor": 1
}
